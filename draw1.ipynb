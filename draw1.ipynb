{
 "cells": [
  {
   "cell_type": "code",
   "execution_count": null,
   "metadata": {},
   "outputs": [],
   "source": [
    "import matplotlib.pyplot as plt\n",
    "from matplotlib import  cm\n",
    "import matplotlib as mpl\n",
    "import geopandas\n",
    "import cartopy.crs as ccrs\n",
    "import cartopy.feature as cfeature\n",
    "import matplotlib.font_manager as fm"
   ]
  },
  {
   "cell_type": "code",
   "execution_count": null,
   "metadata": {},
   "outputs": [],
   "source": [
    "import pandas as pd\n",
    "import numpy as np\n",
    "data = pd.read_csv('./perprocess/input/O3/20220223_O3_v2.csv')\n",
    "lons = data['X_Lon']\n",
    "lats = data['Y_Lat']\n",
    "values = np.array(data['M8H_O3'])\n",
    "vmin = values.min()\n",
    "vmax = values.max()"
   ]
  },
  {
   "cell_type": "code",
   "execution_count": null,
   "metadata": {},
   "outputs": [],
   "source": [
    "# import numpy as np\n",
    "# lons = set(data['lon'])\n",
    "# lats = set(data['lat'])\n",
    "# # map lon lat -> value\n",
    "# dataDict = {\n",
    "    \n",
    "# }\n",
    "# for lon, lat, value in data.values:\n",
    "#   dataDict[(lon, lat)] = value\n",
    "\n",
    "# # lons, lats = np.meshgrid(set(lons),set(lats))\n",
    "# values = []\n",
    "# for lon in lons:\n",
    "#   for lat in lats:\n",
    "#     values.append(dataDict[(lon, lat)])\n",
    "# values = np.array(values).reshape(len(lons), len(lats))"
   ]
  },
  {
   "cell_type": "code",
   "execution_count": null,
   "metadata": {},
   "outputs": [],
   "source": [
    "fig = plt.figure(figsize=[15, 10],dpi=150)\n",
    "ax = plt.axes(projection=ccrs.PlateCarree())\n",
    "ax.set_extent([72, 137, 13, 55], crs=ccrs.PlateCarree())\n",
    "# ax.stock_img()\n",
    "# 读 ./CN-border-La.gmt\n",
    "gdf = geopandas.read_file('./CN-border-La.gmt')\n",
    "# 绘制国界省界\n",
    "ax.add_geometries(gdf.geometry, ccrs.PlateCarree(),   edgecolor='black',linewidth=1.2, zorder=2,alpha=0.5)\n",
    "\n",
    "    \n",
    "# ax.add_feature(cfeature.COASTLINE.with_scale('10m'), linewidth=1,color='k')\n",
    "# LAKES_border = cfeature.NaturalEarthFeature('physical', 'lakes', '10m', edgecolor='k', facecolor='never')\n",
    "# ax.add_feature(LAKES_border, linewidth=0.8)\n",
    "# ax.add_feature(cfeature.COASTLINE.with_scale('50m'), linewidth=1,color='black')\n",
    "# ax.add_feature(cfeature.LAND.with_scale('110m'))\n",
    "# ax.add_feature(cfeature.RIVERS.with_scale('50m'))\n",
    "ax.add_feature(cfeature.OCEAN.with_scale('50m'))\n",
    "cbarticks = [v for v in np.arange(vmin, vmax, (vmax-vmin)/5)]\n",
    "norm = mpl.colors.Normalize(vmin=cbarticks[0], vmax=cbarticks[-1])\n",
    "# 浓度\n",
    "# im = ax.scatter(lons, lats, c=values, cmap=cm.jet, norm=norm, s=1, zorder=3)\n",
    "im = ax.scatter(lons,lats, c=values, s=1, transform=ccrs.PlateCarree(),cmap=cm.Spectral_r,norm=norm)\n",
    "\n",
    "fig.subplots_adjust(right=0.93)\n",
    "position = fig.add_axes([0.95, 0.22, 0.015, .55 ])#位置[左,下,右,上]\n",
    "cb = fig.colorbar(im, cax=position)\n",
    "font = {\n",
    "        'color': 'black',\n",
    "        'weight': 'normal',\n",
    "        'size': 20,\n",
    "        'fontproperties': fm.FontProperties(fname='STHeiti Medium.ttc')\n",
    "        }\n",
    "cb.set_label('μg/m3', fontdict=font)\n",
    "cb.set_ticks(cbarticks)\n",
    "tl=cb.ax.set_yticklabels(cbarticks,fontdict=font)\n",
    "cb.ax.tick_params(labelsize=16, direction='out')\n",
    "# cb.ax.yaxis.set_tick_params(pad=22)  # your number may vary\n",
    "\n",
    "# 右上角 text\n",
    "ax.text(0.98, 0.98, 'O3', transform=ax.transAxes, fontproperties=fm.FontProperties(fname='STHeiti Medium.ttc'), fontsize=20,\n",
    "        horizontalalignment='right', verticalalignment='top', zorder=3)\n",
    "\n",
    "plt.show()\n"
   ]
  }
 ],
 "metadata": {
  "interpreter": {
   "hash": "da47ce8268c6ad31e473445d0f61db6506a7a2fb21a1c92e74acce778ca677b9"
  },
  "kernelspec": {
   "display_name": "Python 3.9.5 64-bit ('3.9.5')",
   "language": "python",
   "name": "python3"
  },
  "language_info": {
   "codemirror_mode": {
    "name": "ipython",
    "version": 3
   },
   "file_extension": ".py",
   "mimetype": "text/x-python",
   "name": "python",
   "nbconvert_exporter": "python",
   "pygments_lexer": "ipython3",
   "version": "3.9.5"
  },
  "orig_nbformat": 4
 },
 "nbformat": 4,
 "nbformat_minor": 2
}
